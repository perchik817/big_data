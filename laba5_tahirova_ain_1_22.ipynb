{
  "nbformat": 4,
  "nbformat_minor": 0,
  "metadata": {
    "colab": {
      "provenance": []
    },
    "kernelspec": {
      "name": "python3",
      "display_name": "Python 3"
    },
    "language_info": {
      "name": "python"
    }
  },
  "cells": [
    {
      "cell_type": "markdown",
      "source": [
        "# Лабораторная №5\n",
        "\n",
        "1.\tИзучите материал, представленный в разделе Ход работы .\n",
        "2.\t Подключите датасеты моделей регрессии:\n",
        "\n",
        "| ToDo | Description |\n",
        "|:-----:|:-----:|\n",
        "| load_diabetes(*[, return_X_y, as_frame]) | Загрузите и верните набор данных диабета (регрессия). |\n",
        "| load_linnerud(*[, return_X_y, as_frame]) | Загрузите и верните набор данных linnerud физических упражнений. |\n",
        "\n",
        "3.\tИзучите подключенные данные.\n",
        "4.\tПостройте модели регрессии (KNeighborsRegressor, LinearRegression, Ridge, Lasso, LogisticRegression) для полученных датасетов, описанные в Ходе работы.\n",
        "*\tНастройте наилучшие параметры моделей.\n",
        "*\tСравните результаты и сделайте выводы.\n",
        "5.\tОформите Notebook.\n",
        "6.\tОформите выводы по работе.\n"
      ],
      "metadata": {
        "id": "pu548w0zczKp"
      }
    },
    {
      "cell_type": "code",
      "execution_count": 7,
      "metadata": {
        "id": "CjJhUwQxckd6"
      },
      "outputs": [],
      "source": [
        "import matplotlib.pyplot as plt\n",
        "from sklearn.linear_model import LinearRegression\n",
        "import numpy as np\n",
        "import mglearn, mglearn.datasets"
      ]
    },
    {
      "cell_type": "markdown",
      "source": [
        "### Подключение датасетов моделей регрессии и изучение подключенных данных"
      ],
      "metadata": {
        "id": "Xe_TIaLFvh-U"
      }
    },
    {
      "cell_type": "code",
      "source": [
        "from sklearn.datasets import load_diabetes, load_linnerud"
      ],
      "metadata": {
        "id": "T2a9arQVcyZt"
      },
      "execution_count": 8,
      "outputs": []
    },
    {
      "cell_type": "markdown",
      "source": [
        "#### Датасет **diabets**"
      ],
      "metadata": {
        "id": "8L6_Tk0iv6_g"
      }
    },
    {
      "cell_type": "code",
      "source": [
        "diabetes_data = load_diabetes(as_frame=True)\n",
        "diabetes = load_diabetes()\n",
        "\n",
        "X = diabetes_data.data #признаки\n",
        "y = diabetes_data.target #цел. переменная\n",
        "\n",
        "print(\"Признаки (X):\")\n",
        "print(X.head())\n",
        "print(\"===\"*20)\n",
        "\n",
        "print(\"\\nЦелевая переменная (y):\")\n",
        "print(y.head())"
      ],
      "metadata": {
        "colab": {
          "base_uri": "https://localhost:8080/"
        },
        "collapsed": true,
        "id": "oCoQ827EvJkf",
        "outputId": "f735f1be-79ee-47f7-f2af-e03295f3adfd"
      },
      "execution_count": 37,
      "outputs": [
        {
          "output_type": "stream",
          "name": "stdout",
          "text": [
            "Признаки (X):\n",
            "        age       sex       bmi        bp        s1        s2        s3  \\\n",
            "0  0.038076  0.050680  0.061696  0.021872 -0.044223 -0.034821 -0.043401   \n",
            "1 -0.001882 -0.044642 -0.051474 -0.026328 -0.008449 -0.019163  0.074412   \n",
            "2  0.085299  0.050680  0.044451 -0.005670 -0.045599 -0.034194 -0.032356   \n",
            "3 -0.089063 -0.044642 -0.011595 -0.036656  0.012191  0.024991 -0.036038   \n",
            "4  0.005383 -0.044642 -0.036385  0.021872  0.003935  0.015596  0.008142   \n",
            "\n",
            "         s4        s5        s6  \n",
            "0 -0.002592  0.019907 -0.017646  \n",
            "1 -0.039493 -0.068332 -0.092204  \n",
            "2 -0.002592  0.002861 -0.025930  \n",
            "3  0.034309  0.022688 -0.009362  \n",
            "4 -0.002592 -0.031988 -0.046641  \n",
            "============================================================\n",
            "\n",
            "Целевая переменная (y):\n",
            "0    151.0\n",
            "1     75.0\n",
            "2    141.0\n",
            "3    206.0\n",
            "4    135.0\n",
            "Name: target, dtype: float64\n"
          ]
        }
      ]
    },
    {
      "cell_type": "code",
      "source": [
        "print(\"\\nОписание набора данных Diabetes:\\n\", diabetes_data.DESCR)"
      ],
      "metadata": {
        "colab": {
          "base_uri": "https://localhost:8080/"
        },
        "id": "HMu6ZexRAD6N",
        "outputId": "e170b2ba-704a-4c13-dad8-6d78e4cd2a8a"
      },
      "execution_count": 27,
      "outputs": [
        {
          "output_type": "stream",
          "name": "stdout",
          "text": [
            "\n",
            "Описание набора данных Diabetes:\n",
            " .. _diabetes_dataset:\n",
            "\n",
            "Diabetes dataset\n",
            "----------------\n",
            "\n",
            "Ten baseline variables, age, sex, body mass index, average blood\n",
            "pressure, and six blood serum measurements were obtained for each of n =\n",
            "442 diabetes patients, as well as the response of interest, a\n",
            "quantitative measure of disease progression one year after baseline.\n",
            "\n",
            "**Data Set Characteristics:**\n",
            "\n",
            ":Number of Instances: 442\n",
            "\n",
            ":Number of Attributes: First 10 columns are numeric predictive values\n",
            "\n",
            ":Target: Column 11 is a quantitative measure of disease progression one year after baseline\n",
            "\n",
            ":Attribute Information:\n",
            "    - age     age in years\n",
            "    - sex\n",
            "    - bmi     body mass index\n",
            "    - bp      average blood pressure\n",
            "    - s1      tc, total serum cholesterol\n",
            "    - s2      ldl, low-density lipoproteins\n",
            "    - s3      hdl, high-density lipoproteins\n",
            "    - s4      tch, total cholesterol / HDL\n",
            "    - s5      ltg, possibly log of serum triglycerides level\n",
            "    - s6      glu, blood sugar level\n",
            "\n",
            "Note: Each of these 10 feature variables have been mean centered and scaled by the standard deviation times the square root of `n_samples` (i.e. the sum of squares of each column totals 1).\n",
            "\n",
            "Source URL:\n",
            "https://www4.stat.ncsu.edu/~boos/var.select/diabetes.html\n",
            "\n",
            "For more information see:\n",
            "Bradley Efron, Trevor Hastie, Iain Johnstone and Robert Tibshirani (2004) \"Least Angle Regression,\" Annals of Statistics (with discussion), 407-499.\n",
            "(https://web.stanford.edu/~hastie/Papers/LARS/LeastAngle_2002.pdf)\n",
            "\n"
          ]
        }
      ]
    },
    {
      "cell_type": "code",
      "source": [
        "print(f'Keys of diabets:\\n{diabetes.keys()}')"
      ],
      "metadata": {
        "colab": {
          "base_uri": "https://localhost:8080/"
        },
        "id": "7y3gfmOaABLl",
        "outputId": "abf3f2f0-557e-47ce-c7ed-fc8d3a3dd126"
      },
      "execution_count": 38,
      "outputs": [
        {
          "output_type": "stream",
          "name": "stdout",
          "text": [
            "Keys of diabets:\n",
            "dict_keys(['data', 'target', 'frame', 'DESCR', 'feature_names', 'data_filename', 'target_filename', 'data_module'])\n"
          ]
        }
      ]
    },
    {
      "cell_type": "code",
      "source": [
        "print(\"Форма массива data для набора diabets: \\n{}\".format(diabetes.data.shape))"
      ],
      "metadata": {
        "colab": {
          "base_uri": "https://localhost:8080/"
        },
        "id": "a3uVSiaf_960",
        "outputId": "ce339fb4-624d-4053-c9cc-8cf96dfffd22"
      },
      "execution_count": 39,
      "outputs": [
        {
          "output_type": "stream",
          "name": "stdout",
          "text": [
            "Форма массива data для набора diabets: \n",
            "(442, 10)\n"
          ]
        }
      ]
    },
    {
      "cell_type": "code",
      "source": [
        "print(f'Имена признаков:\\n{diabetes.feature_names}')"
      ],
      "metadata": {
        "colab": {
          "base_uri": "https://localhost:8080/"
        },
        "id": "8tdB_3bbAY2S",
        "outputId": "59334f98-dce0-40e1-f9b9-1534c1cf3b72"
      },
      "execution_count": 41,
      "outputs": [
        {
          "output_type": "stream",
          "name": "stdout",
          "text": [
            "Имена признаков:\n",
            "['age', 'sex', 'bmi', 'bp', 's1', 's2', 's3', 's4', 's5', 's6']\n"
          ]
        }
      ]
    },
    {
      "cell_type": "code",
      "source": [
        "# plt.plot(X, y, 'o')\n",
        "# plt.xlabel(\"Признак\")\n",
        "# plt.ylabel(\"Целевая переменная\")\n",
        "# plt.legend()\n",
        "# plt.show()\n",
        "plt.plot(X.iloc[:, 2], y, 'o', label=X.columns[2])  # 3rd признак\n",
        "plt.xlabel(\"Признак: \" + X.columns[2])\n",
        "plt.ylabel(\"Целевая переменная\")\n",
        "plt.legend()\n",
        "plt.show()"
      ],
      "metadata": {
        "colab": {
          "base_uri": "https://localhost:8080/",
          "height": 449
        },
        "id": "0xlPnqTA-9ui",
        "outputId": "2f90aa1f-68f3-4086-ed68-b435abe5c1ed"
      },
      "execution_count": 21,
      "outputs": [
        {
          "output_type": "display_data",
          "data": {
            "text/plain": [
              "<Figure size 640x480 with 1 Axes>"
            ],
            "image/png": "[encoded data removed]"
          },
          "metadata": {}
        }
      ]
    },
    {
      "cell_type": "markdown",
      "source": [
        "#### Датасет **linnerud**"
      ],
      "metadata": {
        "id": "EiZ0MitgKhaH"
      }
    },
    {
      "cell_type": "code",
      "source": [
        "linnerud_data = load_linnerud(as_frame=True)\n",
        "linnerud = load_linnerud()\n",
        "\n",
        "X = linnerud_data.data #признаки\n",
        "y = linnerud_data.target #цел. переменная\n",
        "\n",
        "print(\"Признаки (X):\")\n",
        "print(X.head())\n",
        "\n",
        "print(\"\\nЦелевая переменная (y):\")\n",
        "print(y.head())"
      ],
      "metadata": {
        "colab": {
          "base_uri": "https://localhost:8080/"
        },
        "id": "uv_3zJBbLCAb",
        "outputId": "3745831c-db24-485c-eada-6434a2c755f0"
      },
      "execution_count": 49,
      "outputs": [
        {
          "output_type": "stream",
          "name": "stdout",
          "text": [
            "Признаки (X):\n",
            "   Chins  Situps  Jumps\n",
            "0    5.0   162.0   60.0\n",
            "1    2.0   110.0   60.0\n",
            "2   12.0   101.0  101.0\n",
            "3   12.0   105.0   37.0\n",
            "4   13.0   155.0   58.0\n",
            "\n",
            "Целевая переменная (y):\n",
            "   Weight  Waist  Pulse\n",
            "0   191.0   36.0   50.0\n",
            "1   189.0   37.0   52.0\n",
            "2   193.0   38.0   58.0\n",
            "3   162.0   35.0   62.0\n",
            "4   189.0   35.0   46.0\n"
          ]
        }
      ]
    },
    {
      "cell_type": "code",
      "source": [
        "print(\"\\nОписание набора данных Linnerud:\\n\", linnerud_data.DESCR)"
      ],
      "metadata": {
        "colab": {
          "base_uri": "https://localhost:8080/"
        },
        "id": "7AOFXl0ILxs_",
        "outputId": "4317c2ed-c58d-4105-fef9-da238f40c460"
      },
      "execution_count": 51,
      "outputs": [
        {
          "output_type": "stream",
          "name": "stdout",
          "text": [
            "\n",
            "Описание набора данных Linnerud:\n",
            " .. _linnerrud_dataset:\n",
            "\n",
            "Linnerrud dataset\n",
            "-----------------\n",
            "\n",
            "**Data Set Characteristics:**\n",
            "\n",
            ":Number of Instances: 20\n",
            ":Number of Attributes: 3\n",
            ":Missing Attribute Values: None\n",
            "\n",
            "The Linnerud dataset is a multi-output regression dataset. It consists of three\n",
            "exercise (data) and three physiological (target) variables collected from\n",
            "twenty middle-aged men in a fitness club:\n",
            "\n",
            "- *physiological* - CSV containing 20 observations on 3 physiological variables:\n",
            "   Weight, Waist and Pulse.\n",
            "- *exercise* - CSV containing 20 observations on 3 exercise variables:\n",
            "   Chins, Situps and Jumps.\n",
            "\n",
            ".. dropdown:: References\n",
            "\n",
            "   * Tenenhaus, M. (1998). La regression PLS: theorie et pratique. Paris:\n",
            "     Editions Technic.\n",
            "\n"
          ]
        }
      ]
    },
    {
      "cell_type": "code",
      "source": [
        "print(f'Keys of diabets:\\n{linnerud.keys()}')\n",
        "print(\"===\"*10)\n",
        "print(\"Форма массива data для набора linnerud: \\n{}\".format(linnerud.data.shape))\n",
        "print(\"===\"*10)\n",
        "print(f'Имена признаков:\\n{linnerud.feature_names}')"
      ],
      "metadata": {
        "colab": {
          "base_uri": "https://localhost:8080/"
        },
        "id": "bbfLuyDyKqB3",
        "outputId": "0049b474-e18f-4186-85ad-c343583f4612"
      },
      "execution_count": 50,
      "outputs": [
        {
          "output_type": "stream",
          "name": "stdout",
          "text": [
            "Keys of diabets:\n",
            "dict_keys(['data', 'feature_names', 'target', 'target_names', 'frame', 'DESCR', 'data_filename', 'target_filename', 'data_module'])\n",
            "==============================\n",
            "Форма массива data для набора linnerud: \n",
            "(20, 3)\n",
            "==============================\n",
            "Имена признаков:\n",
            "['Chins', 'Situps', 'Jumps']\n"
          ]
        }
      ]
    },
    {
      "cell_type": "code",
      "source": [
        "plt.plot(X, y, 'o', label = X.columns[::])\n",
        "plt.xlabel(\"Признак\")\n",
        "plt.ylabel(\"Целевая переменная\")\n",
        "plt.legend()\n",
        "plt.show()"
      ],
      "metadata": {
        "colab": {
          "base_uri": "https://localhost:8080/",
          "height": 449
        },
        "id": "L3nXc7bCL9JD",
        "outputId": "8415dc8d-964c-4e75-a92a-2d9d2f97111d"
      },
      "execution_count": 53,
      "outputs": [
        {
          "output_type": "display_data",
          "data": {
            "text/plain": [
              "<Figure size 640x480 with 1 Axes>"
            ],
            "image/png": "[encoded data removed]"
          },
          "metadata": {}
        }
      ]
    },
    {
      "cell_type": "markdown",
      "source": [
        "### Построение модели регресии"
      ],
      "metadata": {
        "id": "ydHg1UrKfcqd"
      }
    },
    {
      "cell_type": "markdown",
      "source": [
        "#### KNeighborsRegressor"
      ],
      "metadata": {
        "id": "jdoRjU5_tMOr"
      }
    },
    {
      "cell_type": "code",
      "source": [],
      "metadata": {
        "id": "GFn3IUHTtfzD"
      },
      "execution_count": null,
      "outputs": []
    },
    {
      "cell_type": "markdown",
      "source": [
        "#### LinearRegression"
      ],
      "metadata": {
        "id": "fP5E8zEOtR0k"
      }
    },
    {
      "cell_type": "markdown",
      "source": [
        "#### Ridge"
      ],
      "metadata": {
        "id": "9YDBRq5GtXYF"
      }
    },
    {
      "cell_type": "markdown",
      "source": [
        "#### Lasso"
      ],
      "metadata": {
        "id": "cjPhWJfHtbRr"
      }
    },
    {
      "cell_type": "markdown",
      "source": [
        "#### LogisticRegression"
      ],
      "metadata": {
        "id": "1RRWklYitep9"
      }
    }
  ]
}