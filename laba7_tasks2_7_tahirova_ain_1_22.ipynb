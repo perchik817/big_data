{
 "cells": [
  {
   "metadata": {},
   "cell_type": "markdown",
   "source": "### 2.\tСоздайте свой «мешок слов», например, набор из 20-25 отзывов о чем-либо, напишите краткое пояснение к данным.",
   "id": "2a58d04997785111"
  },
  {
   "metadata": {
    "ExecuteTime": {
     "end_time": "2024-12-10T16:10:49.024333Z",
     "start_time": "2024-12-10T16:10:49.007517Z"
    }
   },
   "cell_type": "code",
   "source": [
    "reviews = [\n",
    "    \"The movie was amazing, with a very engaging plot.\",\n",
    "    \"The restaurant's service was disappointing.\",\n",
    "    \"This product completely exceeded my expectations!\",\n",
    "    \"Too expensive, but the quality is decent.\",\n",
    "    \"I’m very happy with my purchase and recommend it to everyone!\",\n",
    "    \"The delivery issues ruined the experience.\",\n",
    "    \"Great atmosphere and fantastic food!\",\n",
    "    \"Not worth the hype. It’s just average.\",\n",
    "    \"The customer support was extremely helpful.\",\n",
    "    \"Highly recommend this to anyone looking for a good deal.\",\n",
    "    \"The product broke within a week, very disappointing.\",\n",
    "    \"Amazing visuals, but the storyline was weak.\",\n",
    "    \"This is the best purchase I've made all year!\",\n",
    "    \"The software has too many bugs, not worth the price.\",\n",
    "    \"Fast delivery and great packaging, 10/10.\",\n",
    "    \"Terrible quality, I want a refund.\",\n",
    "    \"The actor's performance was breathtaking.\",\n",
    "    \"It’s overpriced for what it offers.\",\n",
    "    \"Perfect for gifting. My friend loved it.\",\n",
    "    \"The app is user-friendly and works as advertised.\"\n",
    "]\n"
   ],
   "id": "1d33d020a7306f98",
   "outputs": [],
   "execution_count": 1
  },
  {
   "metadata": {},
   "cell_type": "markdown",
   "source": "### 3.\tСоздайте словарь стоп-слов, примените стоп-слова к своему «мешку слов»",
   "id": "f02126f7d935e3de"
  },
  {
   "metadata": {
    "ExecuteTime": {
     "end_time": "2024-12-10T16:11:01.334447Z",
     "start_time": "2024-12-10T16:10:53.693870Z"
    }
   },
   "cell_type": "code",
   "source": [
    "from sklearn.feature_extraction.text import ENGLISH_STOP_WORDS\n",
    "\n",
    "# converting reviews to lowercase and removing stop words\n",
    "processed_reviews = []\n",
    "for review in reviews:\n",
    "    words = review.lower().split()\n",
    "    filtered_words = [word for word in words if word not in ENGLISH_STOP_WORDS]\n",
    "    processed_reviews.append(\" \".join(filtered_words))\n",
    "\n",
    "print(f\"Original reviews: {reviews[:3]}\")  \n",
    "print(f\"\\nProcessed reviews: {processed_reviews[:3]}\")  \n"
   ],
   "id": "d2f7b6b967682ea5",
   "outputs": [
    {
     "name": "stdout",
     "output_type": "stream",
     "text": [
      "Original reviews:\n",
      "['The movie was amazing, with a very engaging plot.', \"The restaurant's service was disappointing.\", 'This product completely exceeded my expectations!']\n",
      "\n",
      "Processed reviews:\n",
      "['movie amazing, engaging plot.', \"restaurant's service disappointing.\", 'product completely exceeded expectations!']\n"
     ]
    }
   ],
   "execution_count": 2
  },
  {
   "metadata": {},
   "cell_type": "markdown",
   "source": "### 4.\tМасштабируйте данные с помощью tf-idf",
   "id": "15adff5bb7863dab"
  },
  {
   "metadata": {
    "ExecuteTime": {
     "end_time": "2024-12-10T16:11:05.163925Z",
     "start_time": "2024-12-10T16:11:05.127225Z"
    }
   },
   "cell_type": "code",
   "source": [
    "from sklearn.feature_extraction.text import TfidfVectorizer\n",
    "\n",
    "# creation of a tf-idf vectorizer\n",
    "vectorizer = TfidfVectorizer()\n",
    "tfidf_matrix = vectorizer.fit_transform(processed_reviews)\n",
    "\n",
    "print(\"Feature Names:\", vectorizer.get_feature_names_out()[:10]) \n",
    "print(\"TF-IDF Matrix Shape:\", tfidf_matrix.shape)"
   ],
   "id": "60890ac6d9f4dae4",
   "outputs": [
    {
     "name": "stdout",
     "output_type": "stream",
     "text": [
      "Feature Names: ['10' 'actor' 'advertised' 'amazing' 'app' 'atmosphere' 'average' 'best'\n",
      " 'breathtaking' 'broke']\n",
      "TF-IDF Matrix Shape: (20, 70)\n"
     ]
    }
   ],
   "execution_count": 3
  },
  {
   "metadata": {},
   "cell_type": "markdown",
   "source": "### 5.\tИспользовать n-gram (1, 2, 3), pipeline(vectorizer, regressor) - ??? Добавить ",
   "id": "f6785b20fcc108b"
  },
  {
   "metadata": {
    "ExecuteTime": {
     "end_time": "2024-12-10T16:20:09.352629Z",
     "start_time": "2024-12-10T16:20:09.225416Z"
    }
   },
   "cell_type": "code",
   "source": [
    "from sklearn.pipeline import Pipeline\n",
    "from sklearn.linear_model import LinearRegression\n",
    "\n",
    "# creation of a pipeline with n-gram vectorizer and regressor\n",
    "pipeline = Pipeline([\n",
    "    (\"tfidf\", TfidfVectorizer(ngram_range=(1, 3))),  # unigrams, bigrams, trigrams\n",
    "    (\"regressor\", LinearRegression())\n",
    "])\n",
    "# 1 for pos, 0 for neg\n",
    "labels = [1, 0, 1, 0, 1, 0, 1, 0, 1, 1, 0, 0, 1, 0, 1, 0, 1, 0, 1, 1]\n",
    "pipeline.fit(processed_reviews, labels)\n",
    "new_reviews = [\"The movie was boring and too long.\", \"Excellent customer service!\"]\n",
    "predictions = pipeline.predict(new_reviews)\n",
    "print(f\"Predictions for new reviews: {predictions}\")\n"
   ],
   "id": "2118d53b1fac1fc9",
   "outputs": [
    {
     "name": "stdout",
     "output_type": "stream",
     "text": [
      "Predictions for new reviews: [0.72762621 0.51747426]\n"
     ]
    }
   ],
   "execution_count": 6
  },
  {
   "metadata": {},
   "cell_type": "markdown",
   "source": "### 6.\tИсследуйте коэффициенты модели",
   "id": "42f6c6f4f2572749"
  },
  {
   "metadata": {
    "ExecuteTime": {
     "end_time": "2024-12-10T16:37:01.567767Z",
     "start_time": "2024-12-10T16:37:01.457994Z"
    }
   },
   "cell_type": "code",
   "source": [
    "coefficients = pipeline.named_steps[\"regressor\"].coef_\n",
    "feature_names = pipeline.named_steps[\"tfidf\"].get_feature_names_out()\n",
    "# combining and sorting by importance\n",
    "coef_df = sorted(zip(coefficients, feature_names), reverse=True, key=lambda x: abs(x[0]))\n",
    "print(\"Top 10 most impactful features:\")\n",
    "for coef, feat in coef_df[:10]:\n",
    "    print(f\"{feat}: {coef:.4f}\")\n"
   ],
   "id": "29f7cccac852c3d7",
   "outputs": [
    {
     "name": "stdout",
     "output_type": "stream",
     "text": [
      "Top 10 most impactful features:\n",
      "disappointing: -0.3487\n",
      "quality: -0.3357\n",
      "worth: -0.2866\n",
      "it overpriced: -0.2367\n",
      "it overpriced offers: -0.2367\n",
      "offers: -0.2367\n",
      "overpriced: -0.2367\n",
      "overpriced offers: -0.2367\n",
      "purchase: 0.2317\n",
      "10: 0.2212\n"
     ]
    }
   ],
   "execution_count": 7
  },
  {
   "metadata": {},
   "cell_type": "markdown",
   "source": "### 7.\tСделайте выводы по работе.",
   "id": "af6befd076893540"
  },
  {
   "metadata": {},
   "cell_type": "markdown",
   "source": [
    "Лабораторная работа состояла из нескольких этапов, начиная с обработки текстовых данных и заканчивая созданием модели признаков и последующим анализом их важности. Всего было использовано двадцать отзывов, в которых была проведена предтекстовая очистка - преобразование в нижний регистр и удаление стоп-слов - чтобы улучшить текст, сохранив ключевые слова.\n",
    " \n",
    "\n",
    "После обработки текста для оценки важности слов использовалась модель TF-IDF. Результаты показали, что из 70 отличительных признаков в матрице TF-IDF одни из самых употребляемых и ключевых слов в описании включают 'actor', 'amazing', 'atmosphere' и 'broke', что означает их релевантность для рецензий.\n",
    "\n",
    " \n",
    "Затем был создан pipeline, состоящий из векторизации с использованием n-грамм - униграмм, биграмм и триграмм, и регрессии. Модель была обучена на метках (положительный или отрицательный отзыв), и после предсказания для новых отзывов была получена вероятность принадлежности к позитивной категории.\n",
    "\n",
    " \n",
    "Важным шагом было определение коэффициентов модели. Результаты показали, что наибольшее влияние на предсказание нескольких целевых переменных оказало наличие определенных слов, связанных с качеством и стоимостью продукта, таких как ```disappointing``` - «разочаровывает» и ```quality``` - «качество», а также таких терминов, как «цена завышена» (```it overpriced```), «стоит» (```worth```) и «предлагает» (```offers```).\n",
    "\n",
    "\n",
    "Результаты работы показывают, что проведенная предобработка и анализ признаков позволили успешно построить модель для классификации отзывов, а также выделить наиболее значимые слова для предсказания позитивных или негативных отзывов."
   ],
   "id": "e7bffba76cbc42b"
  }
 ],
 "metadata": {
  "kernelspec": {
   "display_name": "Python 3",
   "language": "python",
   "name": "python3"
  },
  "language_info": {
   "codemirror_mode": {
    "name": "ipython",
    "version": 2
   },
   "file_extension": ".py",
   "mimetype": "text/x-python",
   "name": "python",
   "nbconvert_exporter": "python",
   "pygments_lexer": "ipython2",
   "version": "2.7.6"
  }
 },
 "nbformat": 4,
 "nbformat_minor": 5
}
