{
 "cells": [
  {
   "metadata": {},
   "cell_type": "markdown",
   "source": "# Лабораторная работа №7. Работа с текстовыми данными.\n",
   "id": "66c29758eb781a13"
  },
  {
   "metadata": {},
   "cell_type": "markdown",
   "source": "### 1)\tИзучите материал лекции 12, проделайте пример, описанный в ходе работы. LDA",
   "id": "4774be2480c13dca"
  },
  {
   "cell_type": "code",
   "id": "initial_id",
   "metadata": {
    "collapsed": true,
    "ExecuteTime": {
     "end_time": "2024-12-10T15:31:07.721216Z",
     "start_time": "2024-12-10T15:14:28.396003Z"
    }
   },
   "source": [
    "import numpy as np\n",
    "from pandas.core import sorting\n",
    "from sklearn.datasets import load_files\n",
    "\n",
    "train_revs = load_files(\"aclImdb_v1/aclImdb/train/\")\n",
    "train_text, y_train = train_revs.data, train_revs.target\n",
    "train_text = [doc.replace(b'<br />', b' ') for doc in train_text]\n",
    "\n",
    "test_revs = load_files(\"aclImdb_v1/aclImdb/test/\")\n",
    "test_text, y_test = test_revs.data, test_revs.target\n",
    "test_text = [doc.replace(b'<br />', b' ') for doc in train_text]"
   ],
   "outputs": [],
   "execution_count": 7
  },
  {
   "metadata": {
    "ExecuteTime": {
     "end_time": "2024-12-10T15:41:31.665628Z",
     "start_time": "2024-12-10T15:32:36.527350Z"
    }
   },
   "cell_type": "code",
   "source": [
    "from sklearn.feature_extraction.text import CountVectorizer\n",
    "from sklearn.decomposition import LatentDirichletAllocation\n",
    "\n",
    "vector = CountVectorizer(max_features=18888, max_df=0.18)\n",
    "X = vector.fit_transform(train_text)\n",
    "\n",
    "lda = LatentDirichletAllocation(n_components=8, learning_method=\"batch\", max_iter=10, random_state=8)\n",
    "topics_doc = lda.fit_transform(X)\n",
    "print(lda.components_.shape)"
   ],
   "id": "f4287d2ea367f1ed",
   "outputs": [
    {
     "name": "stdout",
     "output_type": "stream",
     "text": [
      "(8, 18888)\n"
     ]
    }
   ],
   "execution_count": 8
  },
  {
   "metadata": {
    "ExecuteTime": {
     "end_time": "2024-12-10T15:42:02.570061Z",
     "start_time": "2024-12-10T15:42:02.481067Z"
    }
   },
   "cell_type": "code",
   "source": [
    "feature_names = vector.get_feature_names_out()\n",
    "# наиболее важные слова для каждой темы, отсортированные по убыванию их значимости\n",
    "for topic_idx, topic in enumerate(lda.components_):\n",
    "    sorted_indices = np.argsort(topic)[::-1]  # порядок для убывания\n",
    "    print(f\"Topic №{topic_idx + 1}:\")\n",
    "    for idx in sorted_indices[:10]:  # первые 10 признаков\n",
    "        print(f\"{feature_names[idx]} ({topic[idx]:.4f})\")\n",
    "    print()"
   ],
   "id": "b81774f060f3641",
   "outputs": [
    {
     "name": "stdout",
     "output_type": "stream",
     "text": [
      "Topic №1:\n",
      "years (4643.0211)\n",
      "family (4390.1739)\n",
      "love (4277.8557)\n",
      "world (3738.3049)\n",
      "children (3224.9528)\n",
      "us (3141.6623)\n",
      "saw (3101.5558)\n",
      "old (3072.1845)\n",
      "our (3060.5777)\n",
      "young (2889.8644)\n",
      "\n",
      "Topic №2:\n",
      "funny (6252.3047)\n",
      "didn (5591.9012)\n",
      "why (5223.4653)\n",
      "say (4679.9387)\n",
      "thing (4455.4869)\n",
      "your (4310.4109)\n",
      "should (4172.3516)\n",
      "guy (4110.8183)\n",
      "10 (4052.3604)\n",
      "watching (3879.4634)\n",
      "\n",
      "Topic №3:\n",
      "show (6526.3800)\n",
      "action (5997.3273)\n",
      "series (5223.8335)\n",
      "episode (3354.2139)\n",
      "fight (1977.2980)\n",
      "episodes (1812.6825)\n",
      "new (1806.5308)\n",
      "season (1779.8378)\n",
      "star (1738.1847)\n",
      "scenes (1622.0544)\n",
      "\n",
      "Topic №4:\n",
      "horror (5636.4994)\n",
      "scene (4858.9035)\n",
      "back (4070.0665)\n",
      "around (3710.0954)\n",
      "your (3684.4627)\n",
      "dead (3567.6200)\n",
      "go (3559.3638)\n",
      "man (3551.5605)\n",
      "guy (3520.0777)\n",
      "re (3487.6295)\n",
      "\n",
      "Topic №5:\n",
      "ve (5722.9437)\n",
      "horror (5348.1138)\n",
      "say (5143.3242)\n",
      "actors (4913.9176)\n",
      "watching (4819.6222)\n",
      "something (4750.6945)\n",
      "original (4696.6924)\n",
      "nothing (4484.7705)\n",
      "your (4377.3413)\n",
      "should (4277.2355)\n",
      "\n",
      "Topic №6:\n",
      "world (3490.4404)\n",
      "such (3383.6711)\n",
      "war (3312.4561)\n",
      "us (3288.5847)\n",
      "director (3231.1551)\n",
      "love (3190.1992)\n",
      "man (3159.8017)\n",
      "these (3071.9978)\n",
      "between (2995.1402)\n",
      "while (2789.4439)\n",
      "\n",
      "Topic №7:\n",
      "man (5462.0025)\n",
      "role (4238.9978)\n",
      "performance (4200.5789)\n",
      "wife (3814.7144)\n",
      "young (3736.1102)\n",
      "woman (3449.9307)\n",
      "plays (3299.5344)\n",
      "love (3195.5357)\n",
      "cast (3048.9639)\n",
      "new (2899.5179)\n",
      "\n",
      "Topic №8:\n",
      "comedy (5891.5217)\n",
      "funny (5077.0426)\n",
      "show (3616.8241)\n",
      "cast (2499.7428)\n",
      "fun (2354.7175)\n",
      "love (2272.6427)\n",
      "here (2244.0022)\n",
      "still (2227.7847)\n",
      "old (2124.4470)\n",
      "years (1968.7036)\n",
      "\n"
     ]
    }
   ],
   "execution_count": 9
  },
  {
   "metadata": {
    "ExecuteTime": {
     "end_time": "2024-12-10T15:55:23.600706Z",
     "start_time": "2024-12-10T15:55:23.473091Z"
    }
   },
   "cell_type": "code",
   "source": [
    "import mglearn\n",
    "\n",
    "sorting = np.argsort(lda.components_, axis=1)[:,::-1]\n",
    "# вывод 8 тем\n",
    "mglearn.tools.print_topics(topics=range(8), feature_names=feature_names, sorting=sorting, topics_per_chunk=3, n_words=10)"
   ],
   "id": "f16e7df7a8a75d0d",
   "outputs": [
    {
     "name": "stdout",
     "output_type": "stream",
     "text": [
      "topic 0       topic 1       topic 2       \n",
      "--------      --------      --------      \n",
      "years         funny         show          \n",
      "family        didn          action        \n",
      "love          why           series        \n",
      "world         say           episode       \n",
      "children      thing         fight         \n",
      "us            your          episodes      \n",
      "saw           should        new           \n",
      "old           guy           season        \n",
      "our           10            star          \n",
      "young         watching      scenes        \n",
      "\n",
      "\n",
      "topic 3       topic 4       topic 5       \n",
      "--------      --------      --------      \n",
      "horror        ve            world         \n",
      "scene         horror        such          \n",
      "back          say           war           \n",
      "around        actors        us            \n",
      "your          watching      director      \n",
      "dead          something     love          \n",
      "go            original      man           \n",
      "man           nothing       these         \n",
      "guy           your          between       \n",
      "re            should        while         \n",
      "\n",
      "\n",
      "topic 6       topic 7       \n",
      "--------      --------      \n",
      "man           comedy        \n",
      "role          funny         \n",
      "performance   show          \n",
      "wife          cast          \n",
      "young         fun           \n",
      "woman         love          \n",
      "plays         here          \n",
      "love          still         \n",
      "cast          old           \n",
      "new           years         \n",
      "\n",
      "\n"
     ]
    }
   ],
   "execution_count": 12
  },
  {
   "metadata": {
    "jupyter": {
     "is_executing": true
    },
    "ExecuteTime": {
     "start_time": "2024-12-10T16:21:25.185886Z"
    }
   },
   "cell_type": "code",
   "source": [
    "import numpy as np\n",
    "lda57 = LatentDirichletAllocation(n_components=57, learning_method=\"batch\", max_iter=10, random_state=0)\n",
    "topics57_doc = lda57.fit_transform(X)\n",
    "tops = np.array([1,45,12,33,6,19,17,54,57,28])\n",
    "sorting = np.argsort(lda57.components_, axis=1)[:, ::-1]\n",
    "feature_names = np.array(vector.get_feature_names_out())\n",
    "mglearn.tools.print_topics(topics=tops, feature_names=feature_names, sorting=sorting, topics_per_chunk=10, n_words=17)"
   ],
   "id": "82f5fbd65ee3b4aa",
   "outputs": [],
   "execution_count": null
  },
  {
   "metadata": {},
   "cell_type": "code",
   "outputs": [],
   "execution_count": null,
   "source": [
    "# сортировка док-ов по весу темы ..\n",
    "theme = np.argsort(topics57_doc[:, ])[::-1]\n",
    "# 8 док-ов, в к-ых тема .. является наиважнейшей\n",
    "for i in theme[:8]:\n",
    "    print(b'.'.join(train_text[i].split(b'.')[:2]) + b'.\\n')"
   ],
   "id": "a82d7465dd10ed60"
  },
  {
   "metadata": {},
   "cell_type": "code",
   "outputs": [],
   "execution_count": null,
   "source": [
    "import matplotlib.pyplot as plt\n",
    "\n",
    "fig, ax = plt.subplots(1, 2, figsize=(8, 6))\n",
    "topic_names = [\"{:>2}\".format(i) + \" \".join(words)\n",
    "               for i, words in enumerate(feature_names[sorting[:,:2]])]\n",
    "for column in [0,1]:\n",
    "    start = column * 50\n",
    "    end = (column + 1) * 50\n",
    "    ax[column].barh(np.arange(50), np.sum(topics57_doc, axis=0)[start:end])\n",
    "    ax[column].set_yticks(np.arange(50))\n",
    "    ax[column].set_yticklabels(topic_names[start:end], ha='left', va='top')\n",
    "    ax[column].invert_yaxis()\n",
    "    ax[column].set_xlim(0.2000)\n",
    "    yax = ax[column].get_yaxis()\n",
    "    yax.set_tick_params(pad=130)\n",
    "plt.tight_layout()"
   ],
   "id": "aabc0d94604e0e7b"
  }
 ],
 "metadata": {
  "kernelspec": {
   "display_name": "Python 3",
   "language": "python",
   "name": "python3"
  },
  "language_info": {
   "codemirror_mode": {
    "name": "ipython",
    "version": 2
   },
   "file_extension": ".py",
   "mimetype": "text/x-python",
   "name": "python",
   "nbconvert_exporter": "python",
   "pygments_lexer": "ipython2",
   "version": "2.7.6"
  }
 },
 "nbformat": 4,
 "nbformat_minor": 5
}
