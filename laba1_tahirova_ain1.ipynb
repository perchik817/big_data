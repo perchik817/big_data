{
 "cells": [
  {
   "cell_type": "markdown",
   "metadata": {},
   "source": [
    "# Getting start with Jupyter Python\n",
    "\n",
    "## We have done\n",
    "* Install [Python](https://www.python.org/downloads/) 3.10\n",
    "* Install Jupyter Python in PyCharm\n",
    "\n",
    ">*but I've installed in VScode*\n",
    "\n",
    "**# Raw NBConvert is not executable data.**"
   ]
  },
  {
   "cell_type": "code",
   "execution_count": 21,
   "metadata": {},
   "outputs": [
    {
     "name": "stdout",
     "output_type": "stream",
     "text": [
      "8\n"
     ]
    }
   ],
   "source": [
    "# to see some tipps use ? or command help()\n",
    "# print?\n",
    "\n",
    "i=8\n",
    "print(i)"
   ]
  },
  {
   "cell_type": "markdown",
   "metadata": {},
   "source": [
    "### Переменные и типы данных"
   ]
  },
  {
   "cell_type": "code",
   "execution_count": 22,
   "metadata": {},
   "outputs": [
    {
     "name": "stdout",
     "output_type": "stream",
     "text": [
      "<class 'int'>\n"
     ]
    }
   ],
   "source": [
    "k = 12\n",
    "t = type(k) # defines type of k\n",
    "print(t)"
   ]
  },
  {
   "cell_type": "markdown",
   "metadata": {},
   "source": [
    "##### Create some variables in Python"
   ]
  },
  {
   "cell_type": "code",
   "execution_count": 21,
   "metadata": {},
   "outputs": [
    {
     "name": "stdout",
     "output_type": "stream",
     "text": [
      "234 is <class 'int'>\n",
      "3.14 is <class 'float'>\n",
      "This is a string\n"
     ]
    }
   ],
   "source": [
    "m = 234  #int\n",
    "print(f'{m} is {type(m)}')\n",
    "\n",
    "\n",
    "f = 3.14  #float\n",
    "print(f\"{f} is {type(f)}\")\n",
    "\n",
    "bl = True # boolean var\n",
    "\n",
    "str = \"This is a string\" \n",
    "print(str)"
   ]
  },
  {
   "cell_type": "markdown",
   "metadata": {},
   "source": [
    "##### Advanced Py types"
   ]
  },
  {
   "cell_type": "code",
   "execution_count": 29,
   "metadata": {},
   "outputs": [
    {
     "name": "stdout",
     "output_type": "stream",
     "text": [
      "List:  [4, 6, 7]\n",
      "dict: {'my': 8, 'name': 1, 'is': 7}\n",
      "element of a dict: 7\n",
      "None is py's <class 'NoneType'>\n"
     ]
    }
   ],
   "source": [
    "l = [4,6,7] # list\n",
    "print(\"List: \", l)\n",
    "\n",
    "dict = {'my': 8, 'name': 1, 'is': 7} # dictionary\n",
    "print(f'dict: {dict}\\n'\n",
    "      f'element of a dict: {dict['is']}')\n",
    "\n",
    "no = None \n",
    "print(f\"{no} is py's {type(no)}\")"
   ]
  },
  {
   "cell_type": "markdown",
   "metadata": {},
   "source": [
    "### Выполнение математических операций и функций"
   ]
  },
  {
   "cell_type": "code",
   "execution_count": 2,
   "metadata": {},
   "outputs": [],
   "source": [
    "import math"
   ]
  },
  {
   "cell_type": "code",
   "execution_count": 31,
   "metadata": {},
   "outputs": [
    {
     "name": "stdout",
     "output_type": "stream",
     "text": [
      "Возведение числа 45 в квадрат = 2025.0\n"
     ]
    }
   ],
   "source": [
    "a = math.pow(45,2)\n",
    "print(f'Возведение числа 45 в квадрат = {a}')"
   ]
  },
  {
   "cell_type": "code",
   "execution_count": 49,
   "metadata": {},
   "outputs": [
    {
     "name": "stdout",
     "output_type": "stream",
     "text": [
      "10! = 3628800\n",
      "Кубический корень числа 343 = 7.0\n",
      "45 degrees = 0.7853981633974483 radians\n"
     ]
    }
   ],
   "source": [
    "fac = 10\n",
    "res = math.factorial(fac)\n",
    "print(f'{fac}! = {res}')\n",
    "\n",
    "cub = 343\n",
    "res2 = math.cbrt(cub)\n",
    "print(f\"Кубический корень числа {cub} = {res2}\")\n",
    "\n",
    "deg = 45\n",
    "res3 = math.radians(deg)\n",
    "print(f'{deg} degrees = {res3} radians')"
   ]
  },
  {
   "cell_type": "markdown",
   "metadata": {},
   "source": [
    "#### Advanced printing"
   ]
  },
  {
   "cell_type": "code",
   "execution_count": 50,
   "metadata": {},
   "outputs": [
    {
     "name": "stdout",
     "output_type": "stream",
     "text": [
      "first value is 487594. second value is 0.\n"
     ]
    }
   ],
   "source": [
    "a = 487594\n",
    "b = 0\n",
    "print('first value is %s. second value is %s.' %(a, b))"
   ]
  },
  {
   "cell_type": "markdown",
   "metadata": {},
   "source": [
    "### Основные языковые конструкции (операторы Python)"
   ]
  },
  {
   "cell_type": "markdown",
   "metadata": {},
   "source": [
    "##### Conditional statements in py"
   ]
  },
  {
   "cell_type": "code",
   "execution_count": 2,
   "metadata": {},
   "outputs": [
    {
     "name": "stdout",
     "output_type": "stream",
     "text": [
      "i don't know\n"
     ]
    }
   ],
   "source": [
    "i=8\n",
    "f=23.5\n",
    "if i==2 and f>24:\n",
    "    print(\"the value of i equals 2 and f is greater than 24\")\n",
    "elif i == 5 and f == i:\n",
    "    print(\"Condition met\")\n",
    "else:\n",
    "    print(\"i don't know\")"
   ]
  },
  {
   "cell_type": "markdown",
   "metadata": {},
   "source": [
    "##### Conditional loops"
   ]
  },
  {
   "cell_type": "code",
   "execution_count": 4,
   "metadata": {},
   "outputs": [
    {
     "name": "stdout",
     "output_type": "stream",
     "text": [
      "[4, 24, 68, 879, 54]\n",
      "4\n",
      "24\n",
      "68\n",
      "879\n",
      "54\n"
     ]
    }
   ],
   "source": [
    "lst = [4, 24, 68, 879, 54]\n",
    "print(lst)\n",
    "\n",
    "for el in lst:\n",
    "      print(el)"
   ]
  },
  {
   "cell_type": "code",
   "execution_count": 6,
   "metadata": {},
   "outputs": [
    {
     "name": "stdout",
     "output_type": "stream",
     "text": [
      "number from 0 till 20:  0\n",
      "number from 0 till 20:  1\n",
      "number from 0 till 20:  2\n",
      "number from 0 till 20:  3\n",
      "number from 0 till 20:  4\n",
      "number from 0 till 20:  5\n",
      "number from 0 till 20:  6\n",
      "number from 0 till 20:  7\n",
      "number from 0 till 20:  8\n",
      "number from 0 till 20:  9\n",
      "number from 0 till 20:  10\n",
      "number from 0 till 20:  11\n",
      "number from 0 till 20:  12\n",
      "number from 0 till 20:  13\n",
      "number from 0 till 20:  14\n",
      "number from 0 till 20:  15\n",
      "number from 0 till 20:  16\n",
      "number from 0 till 20:  17\n",
      "number from 0 till 20:  18\n",
      "number from 0 till 20:  19\n"
     ]
    }
   ],
   "source": [
    "import time\n",
    "\n",
    "for i in range(20):\n",
    "    time.sleep(0.5)  # output with 0.5s delay\n",
    "    print(\"number from 0 till 20: \", i)"
   ]
  },
  {
   "cell_type": "code",
   "execution_count": 9,
   "metadata": {},
   "outputs": [
    {
     "name": "stdout",
     "output_type": "stream",
     "text": [
      "3\n",
      "7\n",
      "11\n",
      "15\n"
     ]
    }
   ],
   "source": [
    "count = 3\n",
    "while count < 16:\n",
    "      print(count)\n",
    "      count += 4"
   ]
  },
  {
   "cell_type": "markdown",
   "metadata": {},
   "source": [
    "### Creating functions in py"
   ]
  },
  {
   "cell_type": "markdown",
   "metadata": {},
   "source": [
    "##### Exponentiation function"
   ]
  },
  {
   "cell_type": "code",
   "execution_count": 16,
   "metadata": {},
   "outputs": [
    {
     "data": {
      "text/plain": [
       "32"
      ]
     },
     "execution_count": 16,
     "metadata": {},
     "output_type": "execute_result"
    }
   ],
   "source": [
    "def pows(a, b):\n",
    "      if b == 0:\n",
    "            return 1\n",
    "      if b == 1:\n",
    "            return a\n",
    "      return a * pows(a, b - 1)\n",
    "res = pows(2, 5)\n",
    "res"
   ]
  },
  {
   "cell_type": "markdown",
   "metadata": {},
   "source": [
    "##### Defining primary number in a lambda function "
   ]
  },
  {
   "cell_type": "code",
   "execution_count": 14,
   "metadata": {},
   "outputs": [
    {
     "data": {
      "text/plain": [
       "True"
      ]
     },
     "execution_count": 14,
     "metadata": {},
     "output_type": "execute_result"
    }
   ],
   "source": [
    "primary_num = lambda x: all(x % i != 0 for i in range(2, int(x**0.5) + 1)) and x > 1\n",
    "primary_num(19)"
   ]
  },
  {
   "cell_type": "markdown",
   "metadata": {},
   "source": [
    "##### Simple lambda division function"
   ]
  },
  {
   "cell_type": "code",
   "execution_count": 19,
   "metadata": {},
   "outputs": [
    {
     "data": {
      "text/plain": [
       "7.0"
      ]
     },
     "execution_count": 19,
     "metadata": {},
     "output_type": "execute_result"
    }
   ],
   "source": [
    "division = lambda x, y: y / x\n",
    "division(35, 245)"
   ]
  },
  {
   "cell_type": "markdown",
   "metadata": {},
   "source": [
    "##### Simple average lambda function"
   ]
  },
  {
   "cell_type": "code",
   "execution_count": 20,
   "metadata": {},
   "outputs": [
    {
     "data": {
      "text/plain": [
       "42.0"
      ]
     },
     "execution_count": 20,
     "metadata": {},
     "output_type": "execute_result"
    }
   ],
   "source": [
    "avg = lambda a, b, c, d, e: (a + b + c + d + e) / 5\n",
    "avg(46, 7, 3, 98, 56)"
   ]
  },
  {
   "cell_type": "markdown",
   "metadata": {},
   "source": [
    "### Дополнительные возможности среды Jyputer Notebook"
   ]
  },
  {
   "cell_type": "markdown",
   "metadata": {},
   "source": [
    "##### Headings h1-h6"
   ]
  },
  {
   "cell_type": "markdown",
   "metadata": {},
   "source": [
    "<h1>Heading1</h1>\n",
    "<h2>Heading2</h2>\n",
    "<h3>Heading3</h3>\n",
    "<h4>Heading4</h4>\n",
    "<h5>Heading5</h5>\n",
    "<h6>Heading6</h6>"
   ]
  },
  {
   "cell_type": "markdown",
   "metadata": {},
   "source": [
    "##### Inserting an image"
   ]
  },
  {
   "cell_type": "markdown",
   "metadata": {},
   "source": [
    "<img src='том-и-джерри.jpeg' width='600' alt='tom&jerry'>\n",
    "\n",
    "***We all need a rest***"
   ]
  },
  {
   "cell_type": "markdown",
   "metadata": {},
   "source": [
    "##### Вставка математических формул с помощью встроенного редактора TeX"
   ]
  },
  {
   "cell_type": "markdown",
   "metadata": {},
   "source": [
    "$$E=mc^2$$\n"
   ]
  },
  {
   "cell_type": "markdown",
   "metadata": {},
   "source": [
    "$$\\left( \\sum_{k=1}^n a_k b_k \\right)^2 \\leq \\left( \\sum_{k=1}^n a_k^2 \\right) \\left( \\sum_{k=1}^n b_k^2 \\right)$$"
   ]
  },
  {
   "cell_type": "markdown",
   "metadata": {},
   "source": [
    "### Tasks to laba 1"
   ]
  },
  {
   "cell_type": "markdown",
   "metadata": {},
   "source": [
    "<img src='1-3.jpg'>\n",
    "\n",
    "**almost done**"
   ]
  },
  {
   "cell_type": "markdown",
   "metadata": {},
   "source": [
    "4. Напишите функцию, которая производит вычисления по формуле:\n",
    "\n",
    "$f = \\frac{9\\pi t + 10\\cos(x)}{\\sqrt{t} - \\sin(x)} e^{-2t}$"
   ]
  },
  {
   "cell_type": "code",
   "execution_count": 7,
   "metadata": {},
   "outputs": [
    {
     "data": {
      "text/plain": [
       "0.03793992938540847"
      ]
     },
     "execution_count": 7,
     "metadata": {},
     "output_type": "execute_result"
    }
   ],
   "source": [
    "import math\n",
    "\n",
    "def f(x, t):\n",
    "    return (9 * math.pi * t + 10 * math.cos(x)) / (math.sqrt(t) - math.sin(x)) * math.exp(-2 * t)\n",
    "f(math.pi / 2, 4)"
   ]
  },
  {
   "cell_type": "markdown",
   "metadata": {},
   "source": [
    "##### 5. Напишите функцию, которая из трех чисел находит все принадлежащие интервалу от a до b (границы интервала задать произвольно)."
   ]
  },
  {
   "cell_type": "code",
   "execution_count": 4,
   "metadata": {},
   "outputs": [
    {
     "name": "stdout",
     "output_type": "stream",
     "text": [
      "[1, 3]\n"
     ]
    }
   ],
   "source": [
    "def find_nums(n1, n2, n3, a, b):\n",
    "    nums = [x for x in (n1, n2, n3) if a <= x < b ]\n",
    "    return nums\n",
    "\n",
    "x, y, z = 1, 5, 3\n",
    "a, b = 0, 5\n",
    "\n",
    "result = find_nums(x, y, z, a, b)\n",
    "print(result)"
   ]
  },
  {
   "cell_type": "markdown",
   "metadata": {},
   "source": [
    "##### 6.\tСоздайте генератор 20-ти случайных чисел в диапазоне от 0 до 10."
   ]
  },
  {
   "cell_type": "code",
   "execution_count": 3,
   "metadata": {},
   "outputs": [
    {
     "data": {
      "text/plain": [
       "[6, 10, 10, 6, 8, 10, 2, 8, 2, 10, 7, 4, 3, 4, 9, 1, 3, 7, 0, 9]"
      ]
     },
     "execution_count": 3,
     "metadata": {},
     "output_type": "execute_result"
    }
   ],
   "source": [
    "import random\n",
    "rand_nums = [random.randint(0, 10) for x in range(1, 21)]\n",
    "rand_nums"
   ]
  },
  {
   "cell_type": "markdown",
   "metadata": {},
   "source": [
    "7. Вычислите сумму 20 элементов последовательности:\n",
    "\n",
    "$\\frac{1}{2 + 3}, \\frac{2}{3 + 4}, \\frac{3}{4 + 5}, ...$"
   ]
  },
  {
   "cell_type": "code",
   "execution_count": 10,
   "metadata": {},
   "outputs": [
    {
     "data": {
      "text/plain": [
       "8.209021097669307"
      ]
     },
     "execution_count": 10,
     "metadata": {},
     "output_type": "execute_result"
    }
   ],
   "source": [
    "def num(num: int):\n",
    "      return num / (num * 2 + 3)\n",
    "def sum():\n",
    "      sum = 0\n",
    "      for i in range(1, 21):\n",
    "            el = num(i)\n",
    "            sum += el\n",
    "      return sum\n",
    "sum()"
   ]
  },
  {
   "cell_type": "markdown",
   "metadata": {},
   "source": [
    "\n",
    "---\n",
    "\n",
    "### Контрольные вопросы по предмету \"Большие данные\"\n",
    "\n",
    "##### 1. Почему для работы с большими данными и для машинного обучения выбирают язык Python? Перечислите не менее трех причин.\n",
    "\n",
    "- **Простота использования и легкость чтения кода.** Python имеет простой синтаксис, что позволяет быстрее развивать проекты.\n",
    "- **Широкий выбор библиотек и фреймворков.** Python предлагает богатый набор библиотек для анализа данных и машинного обучения, таких как `NumPy`, `pandas`, `scikit-learn`, и `TensorFlow`.\n",
    "- **Большое сообщество и поддержка.** Огромное количество ресурсов, документации и сообществ делает его идеальным для начинающих и профессионалов.\n",
    "\n",
    "##### 2. В чем особенности среды Jupyter Notebook, почему ее выбирают специалисты по Data Science?\n",
    "\n",
    "- **Интерактивность.** Jupyter Notebook позволяет выполнять код по частям и видеть результаты сразу, что полезно для анализа данных.\n",
    "- **Документирование.** Можно легко комбинировать код с текстом, формулами и визуализациями в одном документе, что удобно для отчетности и объяснений.\n",
    "- **Поддержка множества языков.** Jupyter поддерживает не только Python, но и другие языки программирования.\n",
    "\n",
    "##### 3. Перечислите основные библиотеки Python для машинного обучения.\n",
    "\n",
    "1. **scikit-learn** – классические алгоритмы машинного обучения: регрессия, классификация, кластеризация.\n",
    "2. **TensorFlow** – разработка и обучение моделей глубокого обучения (Google).\n",
    "3. **Keras** – высокоуровневый интерфейс для TensorFlow.\n",
    "4. **PyTorch** – библиотека для глубокого обучения (Facebook).\n",
    "5. **XGBoost** – эффективное построение моделей градиентного бустинга.\n",
    "6. **LightGBM** – градиентный бустинг, оптимизированный для больших данных (Microsoft).\n",
    "\n",
    "##### 4. Какие типы данных Python вы знаете?\n",
    "\n",
    "1. **Числовые типы:**\n",
    "   - `int` – целые числа (например, 10, -5)\n",
    "   - `float` – числа с плавающей запятой (например, 3.14, -0.001)\n",
    "   - `complex` – комплексные числа (например, 1+2j)\n",
    "\n",
    "2. **Последовательности:**\n",
    "   - `str` – строки (например, \"hello\", 'world')\n",
    "   - `list` – списки (например, [1, 2, 3], ['a', 'b'])\n",
    "   - `tuple` – кортежи (например, (1, 2, 3), ('a', 'b'))\n",
    "\n",
    "3. **Множества:**\n",
    "   - `set` – множества (например, {1, 2, 3})\n",
    "   - `frozenset` – неизменяемые множества\n",
    "\n",
    "4. **Отображения:**\n",
    "   - `dict` – словари (например, {'key': 'value', 'name': 'Alice'})\n",
    "\n",
    "5. **Логический тип:**\n",
    "   - `bool` – булевы значения: `True` и `False`\n",
    "\n",
    "6. **NoneType:**\n",
    "   - `None` – специальный тип, обозначающий отсутствие значения.\n",
    "\n",
    "##### 5. Назовите основные языковые конструкции Python.\n",
    "\n",
    "- **Условные операторы:** `if`, `else`, `elif`\n",
    "- **Циклы:** `for`, `while`\n",
    "- **Функции:** `def`\n",
    "- **Лямбда-функции:** `lambda`\n",
    "- **Классы и объекты:** `class`\n",
    "- **Модули и пакеты:** `import`\n",
    "\n",
    "##### 6. Какое назначение у оператора if … else?\n",
    "\n",
    "Оператор `if … else` используется для выполнения блока кода в зависимости от выполнения условия. Если условие истинно, выполняется блок после `if`; если ложно — блок после `else`.\n",
    "\n",
    "##### 7. Когда заканчивается выполнение оператора while?\n",
    "\n",
    "Цикл `while` продолжается до тех пор, пока условие истинно (`True`). Выполнение прекращается, когда условие становится ложным.\n",
    "\n",
    "##### 8. Какие способы задания функций есть в Python?\n",
    "\n",
    "- **Обычные (именованные) функции**\n",
    "\n",
    "   Определяются с помощью ключевого слова def.\n",
    "   ```python\n",
    "   def my_function(a, b):\n",
    "         return a + b\n",
    "   ```\n",
    "\n",
    "- **Лямбда-функции (анонимные функции)**\n",
    "\n",
    "   Определяются с помощью ключевого слова lambda. Используются для создания простых одноразовых функций.\n",
    "   ```python\n",
    "   f = lambda x, y: x * y\n",
    "   print(f(2, 3))  # Вывод: 6\n",
    "   ```\n",
    "\n",
    "- **Функции как объекты**\n",
    "\n",
    "   Функции можно передавать как аргументы или возвращать из других функций.\n",
    "   ```python\n",
    "   def add(a, b):\n",
    "       return a + b\n",
    "\n",
    "   def operate(func, x, y):\n",
    "       return func(x, y)\n",
    "\n",
    "   result = operate(add, 5, 3)  # Вывод: 8\n",
    "   ```\n",
    "\n",
    "##### 9. Что такое Лямбда-функция?\n",
    "\n",
    "Лямбда-функция — это короткая анонимная функция, которая может принимать любое количество аргументов, но содержит одно выражение.\n",
    "\n",
    "Пример:\n",
    "```python\n",
    "f = lambda x: x * 2\n",
    "print(f(5))  # Вывод: 10\n",
    "```\n",
    "\n",
    "##### 10. Какая библиотека Python отвечает за выполнение основных математических функций?\n",
    "\n",
    "Библиотека `math` отвечает за выполнение основных математических операций.\n",
    "\n",
    "##### 11. Назовите дополнительные возможности использования среды Jupyter Notebook.\n",
    "\n",
    "- **Визуализация данных:** Поддерживает библиотеки визуализации, такие как `Matplotlib` и `Seaborn`.\n",
    "- **Интеграция с big data:** Возможна интеграция с Hadoop и Spark.\n",
    "- **Совместная работа:** Jupyter позволяет делиться блокнотами для совместного анализа данных.\n",
    "\n",
    "--- "
   ]
  }
 ],
 "metadata": {
  "kernelspec": {
   "display_name": "Python 3",
   "language": "python",
   "name": "python3"
  },
  "language_info": {
   "codemirror_mode": {
    "name": "ipython",
    "version": 3
   },
   "file_extension": ".py",
   "mimetype": "text/x-python",
   "name": "python",
   "nbconvert_exporter": "python",
   "pygments_lexer": "ipython3",
   "version": "3.12.3"
  }
 },
 "nbformat": 4,
 "nbformat_minor": 2
}
